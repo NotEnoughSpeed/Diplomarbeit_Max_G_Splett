{
 "cells": [
  {
   "cell_type": "code",
   "execution_count": 1,
   "metadata": {},
   "outputs": [],
   "source": [
    "import numpy as np\n",
    "import math\n",
    "import random\n",
    "import matplotlib.pyplot as plt"
   ]
  },
  {
   "cell_type": "code",
   "execution_count": 2,
   "metadata": {},
   "outputs": [],
   "source": [
    "K = int(math.pow(3,1))\n",
    "L = int(math.pow(1,1))\n",
    "d = int(K * L)\n",
    "r= int(math.pow(10,0))\n",
    "plt.rcParams['figure.dpi'] = 100"
   ]
  },
  {
   "cell_type": "code",
   "execution_count": 3,
   "metadata": {},
   "outputs": [],
   "source": [
    "def c(x, p_a, p_b, theta_a, theta_b, s):\n",
    "\n",
    "    c_matrix = np.zeros((d,1))\n",
    "\n",
    "    #Mutation\n",
    "\n",
    "    for i in range(K):\n",
    "        for j in range(L):\n",
    "\n",
    "            x_j_sum = 0\n",
    "            for k in range(K):\n",
    "                x_j_sum +=  x[j * K + k] * p_a[i * K + k]\n",
    "                if i == k:\n",
    "                    x_j_sum -= x[j * K + k]\n",
    "                    \n",
    "            x_i_sum = 0\n",
    "            for l in range(L):\n",
    "                x_i_sum +=  x[l * K + i] * p_b[j * L + l]\n",
    "                if j == l:\n",
    "                    x_i_sum -= x[l * K + i]\n",
    "\n",
    "            c_matrix[j * K + i] += theta_a * 0.5 * x_j_sum + theta_b * 0.5 * x_i_sum\n",
    "\n",
    "    return c_matrix\n",
    "    #return np.zeros((d,1))\n",
    "\n",
    "def a(x, phi, s):\n",
    "\n",
    "    a_matrix = np.zeros((d,1))\n",
    "\n",
    "    #Rekombination\n",
    "    '''\n",
    "\n",
    "    for i in range(K):\n",
    "        for j in range(L):\n",
    "            x_i_sum = 0\n",
    "            for l in range(L):\n",
    "                x_i_sum +=  x[l * K + i]\n",
    "            x_j_sum = 0\n",
    "            for k in range(K):\n",
    "                x_j_sum +=  x[j * K + k]\n",
    "            a_matrix[j * K + i] = phi[0] * (x_i_sum * x_j_sum - x[j * K + i])\n",
    "\n",
    "    '''\n",
    "\n",
    "    #Selektion\n",
    "\n",
    "    \n",
    "                             \n",
    "    for i in range(d):\n",
    "        for j in range(d):\n",
    "            for k in range(d):\n",
    "\n",
    "                if i == k:\n",
    "                    \n",
    "                    a_matrix[i] += 0.5 * x[i] * x[j] * (1 - x[k]) * s[j, k]\n",
    "\n",
    "                else:\n",
    "                    \n",
    "                    a_matrix[i] += 0.5 * x[i] * x[j] * (-x[k]) * s[j, k]\n",
    "    \n",
    "    return a_matrix\n",
    "\n",
    "def relu(x):\n",
    "    return (np.maximum(0, x))\n",
    "\n",
    "def kronecker_delta(i,j):\n",
    "    if i == j:\n",
    "        return 1\n",
    "    return 0\n",
    "    \n",
    "def diff(x, c_value, phi, s, delta, noise_factor = math.pow(10,-3)):\n",
    "    #normal_rand = np.random.multivariate_normal(np.zeros(d), np.identity(d) * math.sqrt(delta)) * noise_factor\n",
    "    normal_rand = np.random.multivariate_normal(np.zeros(d), np.identity(d) * delta) * noise_factor\n",
    "    normal_rand.reshape(d, 1)\n",
    "    \n",
    "    sigma = ((np.identity(d) - (np.diag(x[:,0]) @ np.ones((d,d)))) @ np.diag(np.sqrt(x)[:,0]))\n",
    "    \n",
    "    difference = (c_value * 1 + a(x, phi, s)) * delta + (sigma @ normal_rand).reshape(d, 1)\n",
    "    #print('difference')\n",
    "    #print(difference.shape)\n",
    "    return x + difference, difference - c_value * delta\n"
   ]
  },
  {
   "cell_type": "code",
   "execution_count": 4,
   "metadata": {},
   "outputs": [
    {
     "name": "stdout",
     "output_type": "stream",
     "text": [
      "seed:  288\n"
     ]
    }
   ],
   "source": [
    "seed_variable = random.randint(0,1000)\n",
    "#noted seeds: 814, 650\n",
    "#seed_variable = 34\n",
    "print('seed: ', seed_variable)\n",
    "np.random.seed(seed_variable)\n",
    "random.seed(seed_variable)"
   ]
  },
  {
   "cell_type": "code",
   "execution_count": 5,
   "metadata": {},
   "outputs": [],
   "source": [
    "#Migration\n",
    "m = math.pow(10,-1) * 4.9 * 0"
   ]
  },
  {
   "cell_type": "code",
   "execution_count": 6,
   "metadata": {},
   "outputs": [
    {
     "name": "stdout",
     "output_type": "stream",
     "text": [
      "theta_a 0.0\n",
      "theta_b 0.0\n"
     ]
    }
   ],
   "source": [
    "#Mutation\n",
    "theta_a = random.expovariate(1) * 0.1 * 0\n",
    "theta_b = random.expovariate(1) * 0.1 * 0\n",
    "print('theta_a', theta_a)\n",
    "print('theta_b', theta_b)"
   ]
  },
  {
   "cell_type": "code",
   "execution_count": 7,
   "metadata": {},
   "outputs": [],
   "source": [
    "'''\n",
    "#Gleichverteile Übergangswahrscheinlichkeiten\n",
    "p_a = np.zeros((K * K,1))\n",
    "p_b = np.zeros((L * L,1))\n",
    "\n",
    "for i in range(K):\n",
    "    for j in range(K):\n",
    "        p_a[i * K + j] = 1 / K\n",
    "        \n",
    "for i in range(L):\n",
    "    for j in range(L):\n",
    "        p_b[i * L + j] = 1 / L\n",
    "'''\n",
    "#zufällige Übergangswahrscheinlichkeiten\n",
    "p_a = np.random.rand(K * K,1)\n",
    "p_b = np.random.rand(L * L,1)\n",
    "\n",
    "for j in range(K):\n",
    "    sum_K = 0\n",
    "    for i in range(K):\n",
    "        if i == j: p_a[i * K + j] *= 10\n",
    "        sum_K += p_a[i * K + j]\n",
    "    for i in range(K):\n",
    "        p_a[i * K + j] /= sum_K\n",
    "\n",
    "for j in range(L):\n",
    "    sum_L = 0\n",
    "    for i in range(L):\n",
    "        if i == j: p_b[i * L + j] *= 10\n",
    "        sum_L += p_b[i * L + j]\n",
    "    for i in range(L):\n",
    "        p_b[i * L + j] /= sum_L"
   ]
  },
  {
   "cell_type": "code",
   "execution_count": 8,
   "metadata": {},
   "outputs": [],
   "source": [
    "#Selektionsparameter\n",
    "s = np.random.rand(d,d) * 10.1 * 1\n",
    "s_k = np.random.rand(K) * 10.1 * 1\n",
    "s_l = np.random.rand(L) * 10.1 * 1\n",
    "row = -1\n",
    "for i_1 in range(K):\n",
    "    for j_1 in range(L):\n",
    "        row += 1\n",
    "        col = -1\n",
    "        for i_2 in range(K):\n",
    "            for j_2 in range(L):\n",
    "                col += 1\n",
    "                s[row][col] = s_k[i_1] + s_l[j_1] + s_k[i_2] + s_l[j_2]\n",
    "'''\n",
    "s = s + s.T #s soll symmetrisch sein\n",
    "s[0][0] += 1\n",
    "'''\n",
    "s -= s[d-1][d-1]\n",
    "#s /= s[0][0]\n",
    "#print('Selektionsparameter: ', s)"
   ]
  },
  {
   "cell_type": "code",
   "execution_count": 9,
   "metadata": {},
   "outputs": [
    {
     "name": "stdout",
     "output_type": "stream",
     "text": [
      "Rekombinationsrate:  [0.]\n"
     ]
    }
   ],
   "source": [
    "#Rekombinationsrate\n",
    "rand_param = (np.random.exponential(7,r) * 1.0 + 2.0 * 1) * 0\n",
    "print('Rekombinationsrate: ', rand_param)"
   ]
  },
  {
   "cell_type": "code",
   "execution_count": 10,
   "metadata": {},
   "outputs": [
    {
     "name": "stdout",
     "output_type": "stream",
     "text": [
      "Noise Faktor:  0.0\n"
     ]
    }
   ],
   "source": [
    "#Noise Faktor\n",
    "noise_factor = math.pow(10,-3) * 100 * 0\n",
    "print('Noise Faktor: ', noise_factor)"
   ]
  },
  {
   "cell_type": "code",
   "execution_count": 11,
   "metadata": {},
   "outputs": [
    {
     "name": "stdout",
     "output_type": "stream",
     "text": [
      "seed:  643\n"
     ]
    }
   ],
   "source": [
    "seed_variable = random.randint(0,1000)\n",
    "seed_variable = 643\n",
    "print('seed: ', seed_variable)\n",
    "np.random.seed(seed_variable)\n",
    "\n",
    "x = np.random.rand(d,1)\n",
    "x_2 = np.random.rand(d,1)\n",
    "#print(x)\n",
    "x /= x.sum()\n",
    "x_2 /= x_2.sum()\n",
    "#print(x)\n",
    "\n",
    "plot_data = []\n",
    "plot_data_2 = []\n",
    "x_delta_data = []\n",
    "x_2_delta_data = []\n",
    "#c_data = []\n",
    "#c_data_2 = []"
   ]
  },
  {
   "cell_type": "code",
   "execution_count": 12,
   "metadata": {},
   "outputs": [],
   "source": [
    "def simulate(x, x_2, T = 1.5, t = 0, delta = math.pow(10,-4)):\n",
    "\n",
    "    checkpoints = 1\n",
    "\n",
    "    while t < T:\n",
    "\n",
    "        if abs(t - T/(1 + checkpoints)) < delta:\n",
    "            print('halfpoint')\n",
    "\n",
    "        plot_data.append(x.tolist())\n",
    "\n",
    "        c_value = c(x, p_a, p_b, theta_a, theta_b, s)\n",
    "        x, x_delta = diff(x, c_value, rand_param, s, delta, noise_factor)\n",
    "\n",
    "        # negative Werte von X auf 0 abbilden und Summe aller Werte von X auf 1 normalisieren\n",
    "        x = relu(x)\n",
    "        x /= x.sum()\n",
    "\n",
    "        #plot_data.append(x.tolist())\n",
    "        x_delta_data.append(x_delta.tolist())\n",
    "        #c_data.append(c_value.tolist())\n",
    "\n",
    "        #x_2\n",
    "        if m > 0:\n",
    "\n",
    "            c_value = c(x_2, p_a, p_b, theta_a, theta_b, s)\n",
    "            x_2, x_2_delta = diff(x_2, c_value, rand_param, s, delta, noise_factor)\n",
    "\n",
    "            # negative Werte von X auf 0 abbilden und Summe aller Werte von X auf 1 normalisieren\n",
    "            x_2 = relu(x_2)\n",
    "            x_2 /= x_2.sum()\n",
    "\n",
    "            plot_data_2.append(x_2.tolist())\n",
    "            x_2_delta_data.append(x_2_delta.tolist())\n",
    "            #c_data_2.append(c_value.tolist())\n",
    "\n",
    "            x = 0.5 * ((1 + math.pow(1 - 2 * m,delta)) * x + (1 - math.pow(1 - 2 * m,delta)) * x_2)\n",
    "            x_2 = 0.5 * ((1 - math.pow(1 - 2 * m,delta)) * x + (1 + math.pow(1 - 2 * m,delta)) * x_2)\n",
    "        \n",
    "        t += delta\n",
    "\n",
    "\n",
    "    print('simulation done')\n",
    "\n",
    "    print('estimating parameters')\n",
    "\n",
    "    mat_dim = (int)(d * (d+1) * 0.5)\n",
    "    print('mat_dim: ', mat_dim)\n",
    "\n",
    "    Y = np.zeros((mat_dim, 1))\n",
    "    I = np.zeros((mat_dim, mat_dim))\n",
    "\n",
    "    plot_data_rho = []\n",
    "    plot_data_I = []\n",
    "    plot_data_linkage_disequilibrium = []\n",
    "\n",
    "    c_value = np.random.rand(d,1)\n",
    "\n",
    "    for t in range((len(plot_data) - 1)):\n",
    "\n",
    "        x_t = plot_data[t]\n",
    "\n",
    "        if t == 0:\n",
    "            t = 1\n",
    "\n",
    "        x_diff = 0\n",
    "\n",
    "        for i in range(d):\n",
    "\n",
    "            x_diff += x_delta_data[t][i][0]\n",
    "\n",
    "        k_index = -1\n",
    "\n",
    "        for k_1 in range(d):\n",
    "\n",
    "            for k_2 in range(k_1 + 1):\n",
    "\n",
    "                k_index += 1\n",
    "\n",
    "                for i in range(d):\n",
    "\n",
    "                    Y[k_index] += 0.5 * x_t[k_1][0] * (kronecker_delta(k_2, i) * x_t[k_2][0] - x_t[k_2][0]) * x_delta_data[t][i][0]\n",
    "\n",
    "                l_index = -1\n",
    "\n",
    "                for l_1 in range(d):\n",
    "\n",
    "                    for l_2 in range(l_1 + 1):\n",
    "\n",
    "                        l_index += 1\n",
    "\n",
    "                        I[k_index][l_index] += 0.25 * (x_t[k_1][0] * x_t[l_1][0]) * (x_t[k_2][0] * kronecker_delta(k_2, l_2) - x_t[k_2][0] * x_t[l_2][0])\n",
    "\n",
    "                        #print('k_1', k_1)\n",
    "                        #print('k_2', k_2)\n",
    "                        #print('l_1', l_1)\n",
    "                        #print('l_2', l_2)\n",
    "                        #print('k_index', k_index)\n",
    "                        #print('l_index', l_index)\n",
    "                        #print('I[k_index][l_index]',I[k_index][l_index])\n",
    "\n",
    "\n",
    "    I = I[:-1,:-1]\n",
    "    Y = Y[:-1]\n",
    "    print('I:')\n",
    "    print(I)\n",
    "    #print('Y:')\n",
    "    #print(Y)\n",
    "\n",
    "    I *= delta\n",
    "    det_I = np.linalg.det(I)\n",
    "    print('det(I) = ', det_I)\n",
    "    print('rank(I) = ', np.linalg.matrix_rank(I))\n",
    "\n",
    "    if det_I != 0:\n",
    "\n",
    "        inv_I = np.linalg.inv(I)\n",
    "            \n",
    "        rho = inv_I @ Y\n",
    "\n",
    "        #rho = np.reshape(rho,(mat_dim,mat_dim))\n",
    "\n",
    "        print('estimation done')\n",
    "\n",
    "        print(s)\n",
    "        print(rho)\n",
    "\n",
    "        #print(s - rho)\n",
    "        #print(np.max(s - rho))\n",
    "\n",
    "    print('x')\n",
    "    plot_data_1_2 = np.array(plot_data).T\n",
    "    plt.plot(plot_data_1_2[0].T)\n",
    "    plt.show()\n",
    "\n",
    "    '''\n",
    "    if m > 0:\n",
    "        print('x_2')\n",
    "        plot_data_2_2 = np.array(plot_data_2).T\n",
    "        plt.plot(plot_data_2_2[0].T)\n",
    "        plt.show()\n",
    "\n",
    "    print('D - linkage disequilibrium')\n",
    "    plot_data_linkage_disequilibrium_2 = np.array(plot_data_linkage_disequilibrium).T\n",
    "    plt.plot(plot_data_linkage_disequilibrium, label='D')\n",
    "    plt.yscale('log')\n",
    "    plt.show()\n",
    "    print('rho - absoulte error to true value')\n",
    "    plt.plot(plot_data_rho, label='rho')\n",
    "    plt.yscale('log')\n",
    "    plt.show()\n",
    "    print('I - information')\n",
    "    plt.plot(plot_data_I, label='I')\n",
    "    plt.show()\n",
    "    '''\n",
    "\n",
    "    return x, x_2, I"
   ]
  },
  {
   "cell_type": "code",
   "execution_count": 16,
   "metadata": {},
   "outputs": [
    {
     "name": "stdout",
     "output_type": "stream",
     "text": [
      "halfpoint\n",
      "halfpoint\n",
      "simulation done\n",
      "estimating parameters\n",
      "mat_dim:  6\n",
      "I:\n",
      "[[ 1.54634554e+00  1.08907714e+00 -2.34222846e-01  3.98354466e+00\n",
      "  -8.54854290e-01]\n",
      " [ 1.08907714e+00  1.33415478e+00 -3.04806249e-01  4.54502180e+00\n",
      "  -1.02934853e+00]\n",
      " [-2.34222846e-01 -3.04806249e-01  3.48778319e+02 -1.02934853e+00\n",
      "   1.89357926e+02]\n",
      " [ 3.98354466e+00  4.54502180e+00 -1.02934853e+00  1.56407350e+01\n",
      "  -3.51567327e+00]\n",
      " [-8.54854290e-01 -1.02934853e+00  1.89357926e+02 -3.51567327e+00\n",
      "   2.09332457e+02]]\n",
      "det(I) =  1.4136724562644805e-12\n",
      "rank(I) =  5\n",
      "estimation done\n",
      "[[-9.10302854 -4.17175255 -4.55151427]\n",
      " [-4.17175255  0.75952344  0.37976172]\n",
      " [-4.55151427  0.37976172  0.        ]]\n",
      "[[-4.62453179]\n",
      " [ 0.19216715]\n",
      " [ 0.37745315]\n",
      " [-0.03181031]\n",
      " [ 0.00599482]]\n",
      "x\n"
     ]
    },
    {
     "data": {
      "image/png": "[encoded data removed]",
      "text/plain": [
       "<Figure size 600x400 with 1 Axes>"
      ]
     },
     "metadata": {
      "needs_background": "light"
     },
     "output_type": "display_data"
    }
   ],
   "source": [
    "x, x_2, I = simulate(x, x_2, T = 10.2, t = 0, delta = math.pow(10,-3))"
   ]
  }
 ],
 "metadata": {
  "kernelspec": {
   "display_name": "Python 3",
   "language": "python",
   "name": "python3"
  },
  "language_info": {
   "codemirror_mode": {
    "name": "ipython",
    "version": 3
   },
   "file_extension": ".py",
   "mimetype": "text/x-python",
   "name": "python",
   "nbconvert_exporter": "python",
   "pygments_lexer": "ipython3",
   "version": "3.9.7"
  },
  "orig_nbformat": 4,
  "vscode": {
   "interpreter": {
    "hash": "0dcd1d2511816899a74ba735f0586ad2a5252297c95097d38969d839b5b7443a"
   }
  }
 },
 "nbformat": 4,
 "nbformat_minor": 2
}
