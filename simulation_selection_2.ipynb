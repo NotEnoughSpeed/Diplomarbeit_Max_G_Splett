{
 "cells": [
  {
   "cell_type": "code",
   "execution_count": 1,
   "metadata": {},
   "outputs": [],
   "source": [
    "import numpy as np\n",
    "import math\n",
    "import random\n",
    "import matplotlib.pyplot as plt"
   ]
  },
  {
   "cell_type": "code",
   "execution_count": 2,
   "metadata": {},
   "outputs": [],
   "source": [
    "K = int(math.pow(12,1))\n",
    "L = int(math.pow(12,1))\n",
    "d = int(K * L)\n",
    "r= int(math.pow(10,0))\n",
    "plt.rcParams['figure.dpi'] = 100"
   ]
  },
  {
   "cell_type": "code",
   "execution_count": 3,
   "metadata": {},
   "outputs": [],
   "source": [
    "def c(x, p_a, p_b, theta_a, theta_b, s):\n",
    "\n",
    "    c_matrix = np.zeros((d,1))\n",
    "\n",
    "    #Mutation\n",
    "\n",
    "    for i in range(K):\n",
    "        for j in range(L):\n",
    "\n",
    "            x_j_sum = 0\n",
    "            for k in range(K):\n",
    "                x_j_sum +=  x[j * K + k] * p_a[i * K + k]\n",
    "                if i == k:\n",
    "                    x_j_sum -= x[j * K + k]\n",
    "                    \n",
    "            x_i_sum = 0\n",
    "            for l in range(L):\n",
    "                x_i_sum +=  x[l * K + i] * p_b[j * L + l]\n",
    "                if j == l:\n",
    "                    x_i_sum -= x[l * K + i]\n",
    "\n",
    "            c_matrix[j * K + i] += theta_a * 0.5 * x_j_sum + theta_b * 0.5 * x_i_sum\n",
    "\n",
    "    return c_matrix\n",
    "    #return np.zeros((d,1))\n",
    "\n",
    "def a(x, phi, s):\n",
    "\n",
    "    a_matrix = np.zeros((d,1))\n",
    "\n",
    "    #Rekombination\n",
    "    '''\n",
    "\n",
    "    for i in range(K):\n",
    "        for j in range(L):\n",
    "            x_i_sum = 0\n",
    "            for l in range(L):\n",
    "                x_i_sum +=  x[l * K + i]\n",
    "            x_j_sum = 0\n",
    "            for k in range(K):\n",
    "                x_j_sum +=  x[j * K + k]\n",
    "            a_matrix[j * K + i] = phi[0] * (x_i_sum * x_j_sum - x[j * K + i])\n",
    "\n",
    "    '''\n",
    "\n",
    "    #Selektion\n",
    "\n",
    "    \n",
    "                             \n",
    "    for i in range(d):\n",
    "        for j in range(d):\n",
    "            for k in range(d):\n",
    "\n",
    "                a_matrix[i] += 0.5 * x[i] * x[j] * (kronecker_delta(i,k) - x[k]) * s[j, k]\n",
    "    \n",
    "    return a_matrix\n",
    "\n",
    "def relu(x):\n",
    "    return (np.maximum(0, x))\n",
    "\n",
    "def kronecker_delta(i,j):\n",
    "    if i == j:\n",
    "        return 1\n",
    "    return 0\n",
    "    \n",
    "def diff(x, c_value, phi, s, delta, noise_factor = math.pow(10,-3)):\n",
    "    #normal_rand = np.random.multivariate_normal(np.zeros(d), np.identity(d) * math.sqrt(delta)) * noise_factor\n",
    "    normal_rand = np.random.multivariate_normal(np.zeros(d), np.identity(d) * delta) * noise_factor\n",
    "    normal_rand.reshape(d, 1)\n",
    "    \n",
    "    sigma = ((np.identity(d) - (np.diag(x[:,0]) @ np.ones((d,d)))) @ np.diag(np.sqrt(x)[:,0]))\n",
    "    \n",
    "    difference = (c_value * 1 + a(x, phi, s)) * delta + (sigma @ normal_rand).reshape(d, 1)\n",
    "    #print('difference')\n",
    "    #print(difference.shape)\n",
    "    return x + difference, difference - c_value * delta\n"
   ]
  },
  {
   "cell_type": "code",
   "execution_count": 4,
   "metadata": {},
   "outputs": [
    {
     "name": "stdout",
     "output_type": "stream",
     "text": [
      "seed:  810\n"
     ]
    }
   ],
   "source": [
    "#seed settings\n",
    "seed_variable = random.randint(0,1000)\n",
    "#noted seeds: 814, 650\n",
    "#seed_variable = 34\n",
    "print('seed: ', seed_variable)\n",
    "np.random.seed(seed_variable)\n",
    "random.seed(seed_variable)"
   ]
  },
  {
   "cell_type": "code",
   "execution_count": 5,
   "metadata": {},
   "outputs": [],
   "source": [
    "#Migration\n",
    "m = math.pow(10,-1) * 4.9 * 0"
   ]
  },
  {
   "cell_type": "code",
   "execution_count": 6,
   "metadata": {},
   "outputs": [
    {
     "name": "stdout",
     "output_type": "stream",
     "text": [
      "theta_a 37.61992707485243\n",
      "theta_b 25.57340053097445\n"
     ]
    }
   ],
   "source": [
    "#Mutation\n",
    "theta_a = random.expovariate(1) * 0.1 * 300\n",
    "theta_b = random.expovariate(1) * 0.1 * 300\n",
    "print('theta_a', theta_a)\n",
    "print('theta_b', theta_b)"
   ]
  },
  {
   "cell_type": "code",
   "execution_count": 7,
   "metadata": {},
   "outputs": [],
   "source": [
    "#Mutation Übergangswahrscheinlichkeiten\n",
    "'''\n",
    "#Gleichverteile Übergangswahrscheinlichkeiten\n",
    "p_a = np.zeros((K * K,1))\n",
    "p_b = np.zeros((L * L,1))\n",
    "\n",
    "for i in range(K):\n",
    "    for j in range(K):\n",
    "        p_a[i * K + j] = 1 / K\n",
    "        \n",
    "for i in range(L):\n",
    "    for j in range(L):\n",
    "        p_b[i * L + j] = 1 / L\n",
    "'''\n",
    "#zufällige Übergangswahrscheinlichkeiten\n",
    "p_a = np.random.rand(K * K,1)\n",
    "p_b = np.random.rand(L * L,1)\n",
    "\n",
    "for j in range(K):\n",
    "    sum_K = 0\n",
    "    for i in range(K):\n",
    "        if i == j: p_a[i * K + j] *= 10\n",
    "        sum_K += p_a[i * K + j]\n",
    "    for i in range(K):\n",
    "        p_a[i * K + j] /= sum_K\n",
    "\n",
    "for j in range(L):\n",
    "    sum_L = 0\n",
    "    for i in range(L):\n",
    "        if i == j: p_b[i * L + j] *= 10\n",
    "        sum_L += p_b[i * L + j]\n",
    "    for i in range(L):\n",
    "        p_b[i * L + j] /= sum_L"
   ]
  },
  {
   "cell_type": "code",
   "execution_count": 8,
   "metadata": {},
   "outputs": [
    {
     "data": {
      "text/plain": [
       "'\\ns = s + s.T #s soll symmetrisch sein\\ns[0][0] += 1\\n'"
      ]
     },
     "execution_count": 8,
     "metadata": {},
     "output_type": "execute_result"
    }
   ],
   "source": [
    "#Selektionsparameter\n",
    "s = np.random.rand(d,d) * 10.1 * 1\n",
    "s_k = np.random.rand(K) * 10.1 * 1\n",
    "s_k -= s_k[0]\n",
    "s_l = np.random.rand(L) * 10.1 * 1\n",
    "s_l -= s_l[-1]\n",
    "\n",
    "row = -1\n",
    "for i_1 in range(K):\n",
    "    for j_1 in range(L):\n",
    "        row += 1\n",
    "        col = -1\n",
    "        for i_2 in range(K):\n",
    "            for j_2 in range(L):\n",
    "                col += 1\n",
    "                s[row][col] = s_k[i_1] + s_l[j_1] + s_k[i_2] + s_l[j_2]\n",
    "'''\n",
    "s = s + s.T #s soll symmetrisch sein\n",
    "s[0][0] += 1\n",
    "'''\n",
    "#s -= s[d-1][d-1]\n",
    "#s /= s[0][0]\n",
    "#print('Selektionsparameter: ', s)"
   ]
  },
  {
   "cell_type": "code",
   "execution_count": 9,
   "metadata": {},
   "outputs": [
    {
     "name": "stdout",
     "output_type": "stream",
     "text": [
      "Rekombinationsrate:  [0.]\n"
     ]
    }
   ],
   "source": [
    "#Rekombinationsrate\n",
    "rand_param = (np.random.exponential(7,r) * 1.0 + 2.0 * 1) * 0\n",
    "print('Rekombinationsrate: ', rand_param)"
   ]
  },
  {
   "cell_type": "code",
   "execution_count": 10,
   "metadata": {},
   "outputs": [
    {
     "name": "stdout",
     "output_type": "stream",
     "text": [
      "Noise Faktor:  0.0\n"
     ]
    }
   ],
   "source": [
    "#Noise Faktor\n",
    "noise_factor = math.pow(10,-3) * 100 * 0\n",
    "print('Noise Faktor: ', noise_factor)"
   ]
  },
  {
   "cell_type": "code",
   "execution_count": 11,
   "metadata": {},
   "outputs": [
    {
     "name": "stdout",
     "output_type": "stream",
     "text": [
      "seed:  643\n"
     ]
    }
   ],
   "source": [
    "#Initialisierung\n",
    "seed_variable = random.randint(0,1000)\n",
    "seed_variable = 643\n",
    "print('seed: ', seed_variable)\n",
    "np.random.seed(seed_variable)\n",
    "\n",
    "x = np.random.rand(d,1)\n",
    "x_2 = np.random.rand(d,1)\n",
    "#print(x)\n",
    "x /= x.sum()\n",
    "x_2 /= x_2.sum()\n",
    "#print(x)\n",
    "\n",
    "plot_data = []\n",
    "plot_data_2 = []\n",
    "x_delta_data = []\n",
    "x_2_delta_data = []\n",
    "#c_data = []\n",
    "#c_data_2 = []"
   ]
  },
  {
   "cell_type": "code",
   "execution_count": 12,
   "metadata": {},
   "outputs": [],
   "source": [
    "#Simulation und Schätzer\n",
    "def simulate(x, x_2, T = 1.5, t = 0, delta = math.pow(10,-4)):\n",
    "\n",
    "    checkpoints = 1\n",
    "\n",
    "    while t < T:\n",
    "\n",
    "        if abs(t - T/(1 + checkpoints)) < delta:\n",
    "            print('halfpoint')\n",
    "\n",
    "        c_value = c(x, p_a, p_b, theta_a, theta_b, s)\n",
    "        x, x_delta = diff(x, c_value, rand_param, s, delta, noise_factor)\n",
    "\n",
    "        # negative Werte von X auf 0 abbilden und Summe aller Werte von X auf 1 normalisieren\n",
    "        x = relu(x)\n",
    "        x /= x.sum()\n",
    "\n",
    "        plot_data.append(x.tolist())\n",
    "\n",
    "        #plot_data.append(x.tolist())\n",
    "        x_delta_data.append(x_delta.tolist())\n",
    "        #c_data.append(c_value.tolist())\n",
    "\n",
    "        #x_2\n",
    "        if m > 0:\n",
    "\n",
    "            c_value = c(x_2, p_a, p_b, theta_a, theta_b, s)\n",
    "            x_2, x_2_delta = diff(x_2, c_value, rand_param, s, delta, noise_factor)\n",
    "\n",
    "            # negative Werte von X auf 0 abbilden und Summe aller Werte von X auf 1 normalisieren\n",
    "            x_2 = relu(x_2)\n",
    "            x_2 /= x_2.sum()\n",
    "\n",
    "            plot_data_2.append(x_2.tolist())\n",
    "            x_2_delta_data.append(x_2_delta.tolist())\n",
    "            #c_data_2.append(c_value.tolist())\n",
    "\n",
    "            x = 0.5 * ((1 + math.pow(1 - 2 * m,delta)) * x + (1 - math.pow(1 - 2 * m,delta)) * x_2)\n",
    "            x_2 = 0.5 * ((1 - math.pow(1 - 2 * m,delta)) * x + (1 + math.pow(1 - 2 * m,delta)) * x_2)\n",
    "        \n",
    "        t += delta\n",
    "\n",
    "\n",
    "    print('simulation done')\n",
    "\n",
    "    print('estimating parameters')\n",
    "\n",
    "    mat_dim = (int)(K + L)\n",
    "    print('mat_dim: ', mat_dim)\n",
    "\n",
    "    Y = np.zeros((mat_dim, 1))\n",
    "    I = np.zeros((mat_dim, mat_dim))\n",
    "\n",
    "    plot_data_rho = []\n",
    "    plot_data_I = []\n",
    "    plot_data_linkage_disequilibrium = []\n",
    "\n",
    "    c_value = np.random.rand(d,1)\n",
    "\n",
    "    for t in range((len(plot_data) - 1)):\n",
    "\n",
    "        #if t == 0:\n",
    "        #    t = 1\n",
    "\n",
    "        x_t = plot_data[t]\n",
    "\n",
    "        #x_diff = 0\n",
    "\n",
    "        Z = np.zeros((d, mat_dim))\n",
    "\n",
    "        for i in range(d):\n",
    "\n",
    "            #x_diff += x_delta_data[t][i][0]\n",
    "\n",
    "            for k in range(mat_dim):\n",
    "\n",
    "                if k < K:\n",
    "\n",
    "                    for k_2 in range(L):\n",
    "\n",
    "                        Z[i][k] += (kronecker_delta(i, k * L + k_2) - x_t[k * L + k_2][0])\n",
    "\n",
    "                if k >= K:\n",
    "\n",
    "                    for k_1 in range(K):\n",
    "\n",
    "                        Z[i][k] += (kronecker_delta(i, k_1 * L + (k - K)) - x_t[k_1 * L + (k - K)][0])\n",
    "\n",
    "                Z[i][k] *= x_t[i][0] * 0.5\n",
    "\n",
    "\n",
    "        for k in range(mat_dim):\n",
    "\n",
    "            for i in range(d):\n",
    "\n",
    "                if x_t[i][0] > 0:\n",
    "\n",
    "                    Y[k] += (Z[i][k] / x_t[i][0]) * x_delta_data[t + 1][i][0]\n",
    "\n",
    "                    for l in range(mat_dim):\n",
    "\n",
    "                        I[k][l] += ((Z[i][k]*Z[i][l]) / x_t[i][0]) * delta\n",
    "\n",
    "\n",
    "    #I *= delta\n",
    "\n",
    "    #print('I:')\n",
    "    #print(I)\n",
    "    #print('Y:')\n",
    "    #print(Y)\n",
    "    #I = I[1:(mat_dim - 1),1:(mat_dim - 1)]\n",
    "    #Y = Y[1:(mat_dim - 1)]\n",
    "    I[0][0] = 1\n",
    "    I[(mat_dim - 1)][(mat_dim - 1)] = 1\n",
    "    Y[0] = 0\n",
    "    Y[(mat_dim - 1)] = 0\n",
    "    for i in range((mat_dim - 1)):\n",
    "        I[0][i + 1] = 0\n",
    "        I[(mat_dim - 1)][i] = 0\n",
    "    #print('I:')\n",
    "    #print(I)\n",
    "    #print('Y:')\n",
    "    #print(Y)\n",
    "\n",
    "    \n",
    "    det_I = np.linalg.det(I)\n",
    "    print('det(I) = ', det_I)\n",
    "    print('rank(I) = ', np.linalg.matrix_rank(I))\n",
    "\n",
    "    if det_I != 0:\n",
    "\n",
    "        #inv_I = np.linalg.inv(I)\n",
    "            \n",
    "        #rho = inv_I @ Y\n",
    "        rho = np.linalg.solve(I,Y)\n",
    "\n",
    "        #rho = np.reshape(rho,(mat_dim,mat_dim))\n",
    "\n",
    "        print('estimation done')\n",
    "\n",
    "        #print(s)\n",
    "        print(s_k)\n",
    "        print(s_l)\n",
    "        print(rho)\n",
    "\n",
    "        #print(s - rho)\n",
    "        #print(np.max(s - rho))\n",
    "\n",
    "    print('x')\n",
    "    plot_data_1_2 = np.array(plot_data).T\n",
    "    plt.plot(plot_data_1_2[0].T)\n",
    "    plt.show()\n",
    "\n",
    "    return x, x_2, I, Y"
   ]
  },
  {
   "cell_type": "code",
   "execution_count": 13,
   "metadata": {},
   "outputs": [
    {
     "name": "stdout",
     "output_type": "stream",
     "text": [
      "halfpoint\n",
      "simulation done\n",
      "estimating parameters\n",
      "mat_dim:  24\n",
      "det(I) =  3.790971565479687e-106\n",
      "rank(I) =  24\n",
      "estimation done\n",
      "[ 0.          5.23454563  2.40872585  2.35448857  4.43615751 -2.13073688\n",
      "  4.05825186 -2.26014999  0.66284249  5.38211834 -1.7608311   4.78834495]\n",
      "[ 3.44961066  4.14239094  3.75159396  2.98942649 -2.34218221 -2.29896402\n",
      " -5.44642376  2.70220916 -0.2741611   2.19655059 -0.53191124  0.        ]\n",
      "[[ 0.        ]\n",
      " [ 5.23454563]\n",
      " [ 2.40872585]\n",
      " [ 2.35448857]\n",
      " [ 4.43615751]\n",
      " [-2.13073688]\n",
      " [ 4.05825186]\n",
      " [-2.26014999]\n",
      " [ 0.66284249]\n",
      " [ 5.38211834]\n",
      " [-1.7608311 ]\n",
      " [ 4.78834495]\n",
      " [ 3.44961066]\n",
      " [ 4.14239094]\n",
      " [ 3.75159396]\n",
      " [ 2.98942649]\n",
      " [-2.34218221]\n",
      " [-2.29896402]\n",
      " [-5.44642376]\n",
      " [ 2.70220916]\n",
      " [-0.2741611 ]\n",
      " [ 2.19655059]\n",
      " [-0.53191124]\n",
      " [ 0.        ]]\n",
      "x\n"
     ]
    },
    {
     "data": {
      "image/png": "[encoded data removed]",
      "text/plain": [
       "<Figure size 600x400 with 1 Axes>"
      ]
     },
     "metadata": {
      "needs_background": "light"
     },
     "output_type": "display_data"
    }
   ],
   "source": [
    "x, x_2, I, Y = simulate(x, x_2, T = .002, t = 0, delta = math.pow(10,-3))"
   ]
  }
 ],
 "metadata": {
  "kernelspec": {
   "display_name": "Python 3",
   "language": "python",
   "name": "python3"
  },
  "language_info": {
   "codemirror_mode": {
    "name": "ipython",
    "version": 3
   },
   "file_extension": ".py",
   "mimetype": "text/x-python",
   "name": "python",
   "nbconvert_exporter": "python",
   "pygments_lexer": "ipython3",
   "version": "3.9.7"
  },
  "orig_nbformat": 4,
  "vscode": {
   "interpreter": {
    "hash": "0dcd1d2511816899a74ba735f0586ad2a5252297c95097d38969d839b5b7443a"
   }
  }
 },
 "nbformat": 4,
 "nbformat_minor": 2
}
